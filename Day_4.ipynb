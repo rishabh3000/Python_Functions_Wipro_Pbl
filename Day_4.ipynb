{
 "cells": [
  {
   "cell_type": "markdown",
   "id": "e3e74a25",
   "metadata": {},
   "source": [
    "# Functions"
   ]
  },
  {
   "cell_type": "markdown",
   "id": "b9ab3539",
   "metadata": {},
   "source": [
    "### Function is a group of related statements that perfrom a specific task.  \n",
    "### A function is a block of reusable code\n",
    "### Function make our code more organized and manageable"
   ]
  },
  {
   "cell_type": "markdown",
   "id": "db3ee9bd",
   "metadata": {},
   "source": [
    "## Built-in function \n",
    "    python has a number of built-in functions which are always ready to use.\n",
    "    Built-in functions helps us in accomplishing the tasks quickly\n",
    "    \n",
    "    "
   ]
  },
  {
   "cell_type": "markdown",
   "id": "c5eb5f22",
   "metadata": {},
   "source": [
    "###   type     id     max     int\n",
    "    len    chr   min    float\n",
    "    abs    ord   input  bool\n",
    "    pow    print super  bool\n",
    "    range  sum   open   upper"
   ]
  },
  {
   "cell_type": "code",
   "execution_count": 1,
   "id": "6049ba42",
   "metadata": {},
   "outputs": [
    {
     "data": {
      "text/plain": [
       "'Welcome to Python tutorial'"
      ]
     },
     "execution_count": 1,
     "metadata": {},
     "output_type": "execute_result"
    }
   ],
   "source": [
    "def message():\n",
    "    return(\"Welcome to Python tutorial\")\n",
    "message()"
   ]
  },
  {
   "cell_type": "code",
   "execution_count": 2,
   "id": "2265c4b0",
   "metadata": {},
   "outputs": [
    {
     "name": "stdout",
     "output_type": "stream",
     "text": [
      "Hello world\n"
     ]
    }
   ],
   "source": [
    "def message():\n",
    "    return \"Hello world\"\n",
    "s1=message()\n",
    "print(s1)"
   ]
  },
  {
   "cell_type": "code",
   "execution_count": 3,
   "id": "8b73c61c",
   "metadata": {},
   "outputs": [
    {
     "name": "stdout",
     "output_type": "stream",
     "text": [
      "Hello world\n"
     ]
    }
   ],
   "source": [
    "def message():\n",
    "    return 'Hello world'\n",
    "    print(\"End\")\n",
    "    \n",
    "print(message())"
   ]
  },
  {
   "cell_type": "code",
   "execution_count": 4,
   "id": "7149ba74",
   "metadata": {},
   "outputs": [
    {
     "name": "stdout",
     "output_type": "stream",
     "text": [
      "Hi Rishabh Welcome. .\n"
     ]
    }
   ],
   "source": [
    "def welcome_msg(name):\n",
    "    print('Hi',name,'Welcome. .')\n",
    "welcome_msg('Rishabh')"
   ]
  },
  {
   "cell_type": "code",
   "execution_count": 5,
   "id": "76bdaede",
   "metadata": {},
   "outputs": [],
   "source": [
    "def calculate(x,y,z):\n",
    "    calculate(10,20,30)"
   ]
  },
  {
   "cell_type": "code",
   "execution_count": 6,
   "id": "33354239",
   "metadata": {},
   "outputs": [],
   "source": [
    "def prime_check(input1):\n",
    "    prime_check(27)"
   ]
  },
  {
   "cell_type": "code",
   "execution_count": 7,
   "id": "7a61ebeb",
   "metadata": {},
   "outputs": [
    {
     "data": {
      "text/plain": [
       "20"
      ]
     },
     "execution_count": 7,
     "metadata": {},
     "output_type": "execute_result"
    }
   ],
   "source": [
    "list_=[8,2,3,0,7]\n",
    "sum(list_)"
   ]
  },
  {
   "cell_type": "code",
   "execution_count": 8,
   "id": "96768ea3",
   "metadata": {},
   "outputs": [
    {
     "name": "stdout",
     "output_type": "stream",
     "text": [
      "20\n"
     ]
    }
   ],
   "source": [
    "def sum(numbers):\n",
    "    total = 0\n",
    "    for x1 in numbers:\n",
    "        total += x1\n",
    "    return total\n",
    "print(sum((8,2,3,0,7)))\n"
   ]
  },
  {
   "cell_type": "code",
   "execution_count": 9,
   "id": "0ccfc96a",
   "metadata": {},
   "outputs": [
    {
     "name": "stdout",
     "output_type": "stream",
     "text": [
      "dcba4321\n"
     ]
    }
   ],
   "source": [
    "txt=\"1234abcd\"[::-1]\n",
    "print(txt)"
   ]
  },
  {
   "cell_type": "code",
   "execution_count": 10,
   "id": "bca24b17",
   "metadata": {},
   "outputs": [
    {
     "name": "stdout",
     "output_type": "stream",
     "text": [
      "Enter the number: 8\n",
      "40320\n"
     ]
    }
   ],
   "source": [
    "def factorial(n):\n",
    "    if n==0:\n",
    "        return 1\n",
    "    else:\n",
    "        return n * factorial(n-1)\n",
    "n=int(input(\"Enter the number: \"))\n",
    "print(factorial(n))"
   ]
  },
  {
   "cell_type": "code",
   "execution_count": 11,
   "id": "098d1833",
   "metadata": {},
   "outputs": [
    {
     "name": "stdout",
     "output_type": "stream",
     "text": [
      "Enter a Number: 5\n",
      "120\n"
     ]
    }
   ],
   "source": [
    "def factorial(n):\n",
    "    if n == 0:\n",
    "        return 1\n",
    "    else:\n",
    "        return n * factorial(n-1)\n",
    "n=int(input(\"Enter a Number: \"))\n",
    "print(factorial(n))\n"
   ]
  },
  {
   "cell_type": "code",
   "execution_count": 12,
   "id": "9b56a77c",
   "metadata": {},
   "outputs": [
    {
     "name": "stdout",
     "output_type": "stream",
     "text": [
      "(12, 4)\n"
     ]
    }
   ],
   "source": [
    "def up_low(string):\n",
    "    lowers=0\n",
    "    uppers=0\n",
    "    for char in string:\n",
    "        if char.islower():\n",
    "            lowers+=1\n",
    "        elif char.isupper():\n",
    "            uppers+=1\n",
    "        else:\n",
    "            pass\n",
    "    return(lowers,uppers)\n",
    "print(up_low(\"RishabH KaunDilay\"))"
   ]
  },
  {
   "cell_type": "code",
   "execution_count": 13,
   "id": "a5bdd40d",
   "metadata": {},
   "outputs": [
    {
     "name": "stdout",
     "output_type": "stream",
     "text": [
      "[2, 4, 6, 8]\n"
     ]
    }
   ],
   "source": [
    "def even_num(a):\n",
    "    num1=[]\n",
    "    for n in a:\n",
    "        if n % 2==0:\n",
    "            num1.append(n)\n",
    "    return num1\n",
    "\n",
    "print(even_num([1,2,3,4,5,6,7,8,9]))"
   ]
  },
  {
   "cell_type": "code",
   "execution_count": 14,
   "id": "78227269",
   "metadata": {},
   "outputs": [
    {
     "name": "stdout",
     "output_type": "stream",
     "text": [
      "Enter the number: 5\n",
      "No is PRime\n"
     ]
    }
   ],
   "source": [
    "def prime_number(n):\n",
    "    if n<=0 or n==1:\n",
    "        return\"No is Not a Prime Number\"\n",
    "    for i in range(2,n):\n",
    "        if n%i==0:\n",
    "            return \"No is Not pRime Number\"\n",
    "        \n",
    "        return \"No is PRime\"\n",
    "n=int(input(\"Enter the number: \"))\n",
    "        \n",
    "print(prime_number(n))\n",
    "    "
   ]
  },
  {
   "cell_type": "code",
   "execution_count": 15,
   "id": "310066c1",
   "metadata": {},
   "outputs": [
    {
     "name": "stdout",
     "output_type": "stream",
     "text": [
      "Enter the Number6\n",
      "False\n"
     ]
    }
   ],
   "source": [
    "def test_prime(n):\n",
    "    if (n==1):\n",
    "        return False\n",
    "    elif (n==2):\n",
    "        return True;\n",
    "    else:\n",
    "        for x in range(2,n):\n",
    "            if(n % x==0):\n",
    "                return False\n",
    "        return True  \n",
    "n=int(input(\"Enter the Number\"))\n",
    "print(test_prime(n))\n"
   ]
  },
  {
   "cell_type": "code",
   "execution_count": null,
   "id": "bd0fd838",
   "metadata": {},
   "outputs": [],
   "source": []
  }
 ],
 "metadata": {
  "kernelspec": {
   "display_name": "Python 3 (ipykernel)",
   "language": "python",
   "name": "python3"
  },
  "language_info": {
   "codemirror_mode": {
    "name": "ipython",
    "version": 3
   },
   "file_extension": ".py",
   "mimetype": "text/x-python",
   "name": "python",
   "nbconvert_exporter": "python",
   "pygments_lexer": "ipython3",
   "version": "3.9.7"
  }
 },
 "nbformat": 4,
 "nbformat_minor": 5
}
